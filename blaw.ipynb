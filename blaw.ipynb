{
  "nbformat": 4,
  "nbformat_minor": 0,
  "metadata": {
    "colab": {
      "name": "blaw.ipynb",
      "provenance": [],
      "collapsed_sections": [],
      "authorship_tag": "ABX9TyO/I276a+m9qgEUYHF3wCzE",
      "include_colab_link": true
    },
    "kernelspec": {
      "name": "python3",
      "display_name": "Python 3"
    }
  },
  "cells": [
    {
      "cell_type": "markdown",
      "metadata": {
        "id": "view-in-github",
        "colab_type": "text"
      },
      "source": [
        "<a href=\"https://colab.research.google.com/github/everaldoglima/blaw/blob/main/blaw.ipynb\" target=\"_parent\"><img src=\"https://colab.research.google.com/assets/colab-badge.svg\" alt=\"Open In Colab\"/></a>"
      ]
    },
    {
      "cell_type": "markdown",
      "metadata": {
        "id": "p2dbj9cBhsqr"
      },
      "source": [
        "# Benford´s law"
      ]
    },
    {
      "cell_type": "code",
      "metadata": {
        "id": "2LbSZk4bKZzg"
      },
      "source": [
        "import collections\n",
        "\n",
        "LAW_PERCENT = [0, 0.301, 0.176, 0.125, 0.097, 0.079, 0.067, 0.058, 0.051, 0.046]\n",
        "\n",
        "def blaw(data):\n",
        "\n",
        "    \"\"\"\n",
        "    Implement Benford´s Law\n",
        "    ref. https://en.wikipedia.org/wiki/Benford%27s_law\n",
        "    @Author: Everaldo Lima\n",
        "    \"\"\"\n",
        "    law = []\n",
        "    digits = list(map(lambda d: str(d)[0], data))\n",
        "    frequencies = collections.Counter(digits)\n",
        "\n",
        "    for d in range(1, 10):\n",
        "        frequency = frequencies[str(d)]\n",
        "        percent = (frequency / len(data))*100\n",
        "        vlaw = LAW_PERCENT[d]*100\n",
        "        law.append({'d': d, 'p': percent, 'q': frequency,'law': vlaw})\n",
        "\n",
        "    return law"
      ],
      "execution_count": 3,
      "outputs": []
    },
    {
      "cell_type": "code",
      "metadata": {
        "id": "irrNyCfY0DHp",
        "outputId": "c811c334-ed22-4b07-b428-ac9314c61595",
        "colab": {
          "base_uri": "https://localhost:8080/",
          "height": 173
        }
      },
      "source": [
        "import pandas as pd\n",
        "# Aluguel\n",
        "fonte = 'https://github.com/everaldoglima/ds_enem/blob/main/aluguel.csv?raw=true'\n",
        "dados = pd.read_csv(fonte, sep = ';')\n",
        "# Valores de venda\n",
        "blaw(dados['Valor'])"
      ],
      "execution_count": 4,
      "outputs": [
        {
          "output_type": "execute_result",
          "data": {
            "text/plain": [
              "[{'d': 1, 'law': 30.099999999999998, 'p': 34.99393203883495, 'q': 11534},\n",
              " {'d': 2, 'law': 17.599999999999998, 'p': 19.350728155339805, 'q': 6378},\n",
              " {'d': 3, 'law': 12.5, 'p': 11.568567961165048, 'q': 3813},\n",
              " {'d': 4, 'law': 9.700000000000001, 'p': 7.3968446601941755, 'q': 2438},\n",
              " {'d': 5, 'law': 7.9, 'p': 6.2378640776699035, 'q': 2056},\n",
              " {'d': 6, 'law': 6.7, 'p': 5.254854368932039, 'q': 1732},\n",
              " {'d': 7, 'law': 5.800000000000001, 'p': 5.227548543689321, 'q': 1723},\n",
              " {'d': 8, 'law': 5.1, 'p': 5.609830097087379, 'q': 1849},\n",
              " {'d': 9, 'law': 4.6, 'p': 4.308252427184466, 'q': 1420}]"
            ]
          },
          "metadata": {
            "tags": []
          },
          "execution_count": 4
        }
      ]
    },
    {
      "cell_type": "code",
      "metadata": {
        "id": "ilBwNniRi5Pe",
        "outputId": "4f154a80-5848-41de-92c3-2018e610da00",
        "colab": {
          "base_uri": "https://localhost:8080/",
          "height": 35
        }
      },
      "source": [
        "dados.shape #totais"
      ],
      "execution_count": 5,
      "outputs": [
        {
          "output_type": "execute_result",
          "data": {
            "text/plain": [
              "(32960, 9)"
            ]
          },
          "metadata": {
            "tags": []
          },
          "execution_count": 5
        }
      ]
    },
    {
      "cell_type": "code",
      "metadata": {
        "id": "bi9FC6GvAuLy",
        "outputId": "8a904df1-2edf-4058-ac5b-8fc1b1847313",
        "colab": {
          "base_uri": "https://localhost:8080/",
          "height": 499
        }
      },
      "source": [
        "g_law = df['law']\n",
        "g_p = df['p']\n",
        "g_index = df['d']\n",
        "graf_barras = pd.DataFrame({'law': g_law, 'valores': g_p})\n",
        "#print(g_index)\n",
        "graf_barras.plot.bar(rot=0, figsize = (10,8), title='Benford´s Law');"
      ],
      "execution_count": null,
      "outputs": [
        {
          "output_type": "display_data",
          "data": {
            "image/png": "[encoded data removed]",
            "text/plain": [
              "<Figure size 720x576 with 1 Axes>"
            ]
          },
          "metadata": {
            "tags": [],
            "needs_background": "light"
          }
        }
      ]
    }
  ]
}